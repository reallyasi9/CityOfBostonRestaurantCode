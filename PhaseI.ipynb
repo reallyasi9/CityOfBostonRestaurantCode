{
 "cells": [
  {
   "cell_type": "markdown",
   "metadata": {},
   "source": [
    "<img src='img/dd.png' style=\"width:100%\"/>\n",
    "\n",
    "# From raw Yelp reviews to a model of hygiene violations (in 3 easy steps)\n",
    "\n",
    "We were so excited about our new [civic innovation competition](http://www.drivendata.org/competitions/5/) we couldn't help but get started ourselves!\n",
    "\n",
    "The goal for this competition is to use data from Yelp restaurant reviews to narrow the search for health code violations in Boston. Competitors will have access to historical hygiene violation records from the City of Boston — a leader in [open government data](https://data.cityofboston.gov) — and [Yelp's consumer reviews](http://www.yelp.com). The challenge: Figure out the words, phrases, ratings, and patterns that predict violations, and help public health inspectors do their job better.\n",
    "\n",
    "### This notebook contains three sections:\n",
    "\n",
    " - [Loading the data](#digging)\n",
    " - [Creating some features](#features)\n",
    " - [Making a simple model](#model)\n",
    "\n",
    "We'll get started by loading the python modules in our analysis toolkit."
   ]
  },
  {
   "cell_type": "code",
   "execution_count": 1,
   "metadata": {},
   "outputs": [],
   "source": [
    "%matplotlib inline\n",
    "\n",
    "from IPython import display\n",
    "import numpy as np\n",
    "import pandas as pd\n",
    "\n",
    "import matplotlib.pyplot as plt\n",
    "\n",
    "# overwrite ipython defaults\n",
    "plt.rcParams[\"figure.facecolor\"] = '17344A'\n",
    "plt.rcParams[\"axes.facecolor\"] = '17344A'\n",
    "plt.rcParams[\"figure.figsize\"] = (10, 8)\n",
    "\n",
    "import warnings\n",
    "warnings.filterwarnings(\"ignore\")"
   ]
  },
  {
   "cell_type": "markdown",
   "metadata": {},
   "source": [
    "<a id=\"digging\"></a>\n",
    "\n",
    "# Loading the data\n",
    "\n",
    "---------------\n",
    "\n",
    "We'll start by taking a look at the data that is provided--you can find more details if you're curious on the  [problem description page](www.drivendata.org/competitions/5/page/28/) for the competition.\n",
    "\n",
    "There are two types of data: \n",
    " 1. Yelp reviews, business information, users, tips, and check-ins \n",
    " 2. Historical hygeine violations as recorded by Boston public health inspectors\n"
   ]
  },
  {
   "cell_type": "code",
   "execution_count": 3,
   "metadata": {},
   "outputs": [
    {
     "name": "stdout",
     "output_type": "stream",
     "text": [
      "91627a02-ff6a-4fcb-96eb-72c6abca7515.zip\n",
      "PhaseIISubmissionFormat.csv\n",
      "SubmissionFormat.csv\n",
      "business_id.txt\n",
      "json_to_csv_converter.py\n",
      "restaurant_ids_to_yelp_ids.csv\n",
      "train_labels.csv\n",
      "yelp_academic_dataset_business.csv\n",
      "yelp_academic_dataset_business.json\n",
      "yelp_academic_dataset_checkin.csv\n",
      "yelp_academic_dataset_checkin.json\n",
      "yelp_academic_dataset_review.csv\n",
      "yelp_academic_dataset_review.json\n",
      "yelp_academic_dataset_tip.csv\n",
      "yelp_academic_dataset_tip.json\n",
      "yelp_academic_dataset_user.csv\n",
      "yelp_academic_dataset_user.json\n",
      "yelp_boston_academic_dataset.tar\n"
     ]
    }
   ],
   "source": [
    "# List all the files in the data folder\n",
    "!ls data"
   ]
  },
  {
   "cell_type": "code",
   "execution_count": 6,
   "metadata": {},
   "outputs": [
    {
     "name": "stdout",
     "output_type": "stream",
     "text": [
      "{\"votes\": {\"funny\": 0, \"useful\": 0, \"cool\": 0}, \"user_id\": \"P_Mk0ygOilLJo4_WEvabAA\", \"review_id\": \"OeT5kgUOe3vcN7H6ImVmZQ\", \"stars\": 3, \"date\": \"2005-08-26\", \"text\": \"This is a pretty typical cafe.  The sandwiches and wraps are good but a little overpriced and the food items are the same.  The chicken caesar salad wrap is my favorite here but everything else is pretty much par for the course.\", \"type\": \"review\", \"business_id\": \"Jp9svt7sRT4zwdbzQ8KQmw\"}\n"
     ]
    }
   ],
   "source": [
    "# Yelp reviews appear as a single JSON object per line in the file.\n",
    "# Write the first line of the review file to look at the structure.\n",
    "! head -n 1 data/yelp_academic_dataset_review.json"
   ]
  },
  {
   "cell_type": "markdown",
   "metadata": {},
   "source": [
    "First, we will load in the mappings of `restaurant_id` in the Boston data to `business_id` in the Yelp data. We'll create a dictionary where the keys are Yelp IDs and the values are Boston IDs, and we'll use this later to figure out which restaurant reviews match which hygeine inspections. The dictionary will have the form `business_id: restaurant_id` and look something like:\n",
    "\n",
    "```\n",
    "{'W3Lfq_Cmqetp1f1AeupM9w': 'WeEe2m3a',\n",
    " 'nCGr8lh1FlqzXjtVjUbiNg': 'njoZ5X3r',\n",
    " 'PvuhIUdbironQ4zNbdU8gA': 'B1oXQmOV',\n",
    " 'KAb0zhEL3MEhIJ8pLd1OpA': '8gOq01o2',\n",
    " ...\n",
    "}\n",
    "```"
   ]
  },
  {
   "cell_type": "code",
   "execution_count": 5,
   "metadata": {},
   "outputs": [],
   "source": [
    "id_map = pd.read_csv(\"data/restaurant_ids_to_yelp_ids.csv\")\n",
    "id_dict = {}\n",
    "\n",
    "# each Yelp ID may correspond to up to 4 Boston IDs\n",
    "for i, row in id_map.iterrows():\n",
    "    # get the Boston ID\n",
    "    boston_id = row[\"restaurant_id\"]\n",
    "    \n",
    "    # get the non-null Yelp IDs\n",
    "    non_null_mask = ~pd.isnull(row.ix[1:])\n",
    "    yelp_ids = row[1:][non_null_mask].values\n",
    "    \n",
    "    for yelp_id in yelp_ids:\n",
    "        id_dict[yelp_id] = boston_id"
   ]
  },
  {
   "cell_type": "markdown",
   "metadata": {},
   "source": [
    "Next, we'll load in the restaurant reviews. The code below creates a dataframe where each row is a single review from the Yelp dataset. In addition to dropping some of the columns that we won't use in this analysis (though that will probably be relevant to you), we use the ID mapping dictionary we just created to replace the Yelp IDs with the ones in the Boston dataset."
   ]
  },
  {
   "cell_type": "code",
   "execution_count": 9,
   "metadata": {},
   "outputs": [
    {
     "data": {
      "text/html": [
       "<div style=\"max-height:1000px;max-width:1500px;overflow:auto;\">\n",
       "<table border=\"1\" class=\"dataframe\">\n",
       "  <thead>\n",
       "    <tr style=\"text-align: right;\">\n",
       "      <th></th>\n",
       "      <th>restaurant_id</th>\n",
       "      <th>date</th>\n",
       "      <th>stars</th>\n",
       "      <th>text</th>\n",
       "    </tr>\n",
       "  </thead>\n",
       "  <tbody>\n",
       "    <tr>\n",
       "      <th>0</th>\n",
       "      <td>N6Ok7qOx</td>\n",
       "      <td>2005-08-26</td>\n",
       "      <td>3</td>\n",
       "      <td>This is a pretty typical cafe.  The sandwiches...</td>\n",
       "    </tr>\n",
       "    <tr>\n",
       "      <th>1</th>\n",
       "      <td>N6Ok7qOx</td>\n",
       "      <td>2005-11-23</td>\n",
       "      <td>3</td>\n",
       "      <td>I agree with other reviewers - this is a prett...</td>\n",
       "    </tr>\n",
       "    <tr>\n",
       "      <th>2</th>\n",
       "      <td>N6Ok7qOx</td>\n",
       "      <td>2005-11-23</td>\n",
       "      <td>3</td>\n",
       "      <td>Decent enough food, but very overpriced. Just ...</td>\n",
       "    </tr>\n",
       "    <tr>\n",
       "      <th>3</th>\n",
       "      <td>N6Ok7qOx</td>\n",
       "      <td>2006-02-24</td>\n",
       "      <td>5</td>\n",
       "      <td>The muffins are great...esp the blueberry!  I ...</td>\n",
       "    </tr>\n",
       "    <tr>\n",
       "      <th>4</th>\n",
       "      <td>N6Ok7qOx</td>\n",
       "      <td>2007-09-06</td>\n",
       "      <td>3</td>\n",
       "      <td>Well, well, well, look at me reviewing the res...</td>\n",
       "    </tr>\n",
       "  </tbody>\n",
       "</table>\n",
       "</div>"
      ]
     },
     "output_type": "execute_result",
     "metadata": {}
    }
   ],
   "source": [
    "with open(\"data/yelp_academic_dataset_review.json\", 'r') as review_file:\n",
    "    # the file is not actually valid json since each line is an individual\n",
    "    # dict -- we will add brackets on the very beginning and ending in order\n",
    "    # to make this an array of dicts and join the array entries with commas\n",
    "    review_json = '[' + ','.join(review_file.readlines()) + ']'\n",
    "\n",
    "# read in the json as a DataFrame\n",
    "reviews = pd.read_json(review_json)\n",
    "\n",
    "# drop columns that we won't use\n",
    "reviews.drop(['review_id', 'type', 'user_id', 'votes'], \n",
    "             inplace=True, \n",
    "             axis=1)\n",
    "\n",
    "# replace yelp business_id with boston restaurant_id\n",
    "map_to_boston_ids = lambda yelp_id: id_dict[yelp_id] if yelp_id in id_dict else np.nan\n",
    "reviews.business_id = reviews.business_id.map(map_to_boston_ids)\n",
    "\n",
    "# rename first column to restaurant_id so we can join with boston data\n",
    "reviews.columns = [\"restaurant_id\", \"date\", \"stars\", \"text\"]    \n",
    "\n",
    "# drop restaurants not found in boston data\n",
    "reviews = reviews[pd.notnull(reviews.restaurant_id)]\n",
    "\n",
    "reviews.head()"
   ]
  },
  {
   "cell_type": "markdown",
   "metadata": {},
   "source": [
    "Now that we have our review data from Yelp, we'll load our data for Boston as well. The training data has:\n",
    "\n",
    " * `id` - a unique ID per inspection\n",
    " * `date` - the date of the inspection\n",
    " * `restaurant_id` - a unqiue identifier for the restaurant\n",
    " * `*` - the number of minor violations\n",
    " * `**` - the number of major violations\n",
    " * `***` - the number of severe violations\n",
    " \n",
    "The `SubmissionFormat.csv` file looks the same, but the violation counts are all zeros. We're asking you to predict those violation counts for the inspections in that test set. That is, for each inspection (unqiue date/restaurant combination) how many violations of each level did inspectors uncover?"
   ]
  },
  {
   "cell_type": "code",
   "execution_count": 10,
   "metadata": {},
   "outputs": [
    {
     "data": {
      "text/html": [
       "<div style=\"max-height:1000px;max-width:1500px;overflow:auto;\">\n",
       "<table border=\"1\" class=\"dataframe\">\n",
       "  <thead>\n",
       "    <tr style=\"text-align: right;\">\n",
       "      <th></th>\n",
       "      <th>date</th>\n",
       "      <th>restaurant_id</th>\n",
       "      <th>*</th>\n",
       "      <th>**</th>\n",
       "      <th>***</th>\n",
       "    </tr>\n",
       "    <tr>\n",
       "      <th>id</th>\n",
       "      <th></th>\n",
       "      <th></th>\n",
       "      <th></th>\n",
       "      <th></th>\n",
       "      <th></th>\n",
       "    </tr>\n",
       "  </thead>\n",
       "  <tbody>\n",
       "    <tr>\n",
       "      <th>589</th>\n",
       "      <td>2010-02-02</td>\n",
       "      <td>KAoKWjog</td>\n",
       "      <td>3</td>\n",
       "      <td>0</td>\n",
       "      <td>1</td>\n",
       "    </tr>\n",
       "    <tr>\n",
       "      <th>28589</th>\n",
       "      <td>2009-12-10</td>\n",
       "      <td>p038M4om</td>\n",
       "      <td>2</td>\n",
       "      <td>0</td>\n",
       "      <td>0</td>\n",
       "    </tr>\n",
       "    <tr>\n",
       "      <th>31170</th>\n",
       "      <td>2008-07-16</td>\n",
       "      <td>B1oXymOV</td>\n",
       "      <td>4</td>\n",
       "      <td>0</td>\n",
       "      <td>0</td>\n",
       "    </tr>\n",
       "    <tr>\n",
       "      <th>2600</th>\n",
       "      <td>2015-01-30</td>\n",
       "      <td>m0oWJl3G</td>\n",
       "      <td>1</td>\n",
       "      <td>0</td>\n",
       "      <td>3</td>\n",
       "    </tr>\n",
       "    <tr>\n",
       "      <th>1016</th>\n",
       "      <td>2012-03-19</td>\n",
       "      <td>rJoQwlEV</td>\n",
       "      <td>0</td>\n",
       "      <td>0</td>\n",
       "      <td>0</td>\n",
       "    </tr>\n",
       "  </tbody>\n",
       "</table>\n",
       "</div>"
      ]
     },
     "output_type": "execute_result",
     "metadata": {}
    }
   ],
   "source": [
    "train_labels = pd.read_csv(\"data/train_labels.csv\", index_col=0)\n",
    "submission = pd.read_csv(\"data/SubmissionFormat.csv\", index_col=0)\n",
    "train_labels.head()"
   ]
  },
  {
   "cell_type": "markdown",
   "metadata": {},
   "source": [
    "We can plot these violations to see how many occured."
   ]
  },
  {
   "cell_type": "code",
   "execution_count": 11,
   "metadata": {},
   "outputs": [
    {
     "data": {
      "image/png": "[encoded data removed]"
     },
     "output_type": "display_data",
     "metadata": {}
    }
   ],
   "source": [
    "fig, axs = plt.subplots(3, 1)\n",
    "fig.set_size_inches(12, 8)\n",
    "\n",
    "for i, label in enumerate(['*', '**', '***']):\n",
    "    data = train_labels[label]\n",
    "    vc = data.value_counts()\n",
    "    idxs = sorted(vc.index)\n",
    "    vc[idxs].plot(kind=\"bar\",\n",
    "                  ax=axs[i],\n",
    "                  xlim=(-1, 15),\n",
    "                  color=plt.rcParams['axes.color_cycle'][i],\n",
    "                  grid=False,\n",
    "                  label='Level {} violations'.format(label))\n",
    "    axs[i].legend()"
   ]
  },
  {
   "cell_type": "markdown",
   "metadata": {},
   "source": [
    "<a id=\"features\"></a>\n",
    "\n",
    "# And now for our feature(s) presentation\n",
    "\n",
    "---------------"
   ]
  },
  {
   "cell_type": "markdown",
   "metadata": {},
   "source": [
    "Next, we'll do some text processing to create features. This is the important part of many NLP problems, but we'll just do something simple to get off the ground. [TF-IDF (term frequency, inverse document frequency)](http://en.wikipedia.org/wiki/Tf%E2%80%93idf) weights the occurrence of words based on how often they appear in the overall corpus. That is, words that appear across all the reviews will be less important than words that appear in only a few reviews.\n",
    "\n",
    "`sklearn` has [very convenient tools to convert text to TF-IDF features](http://scikit-learn.org/stable/modules/generated/sklearn.feature_extraction.text.TfidfVectorizer.html), so we'll use that for our benchmarking.\n",
    "\n",
    "The first step is to create the data row-by-row for each output in the training set. For example, take the row:\n",
    "\n",
    "`20652\t2008-05-07\tlnORDD3N\t9\t2\t2`\n",
    "\n",
    "We want to find all of the reviews of restaurant `lnORDD3N` that occurred before the inspection date `2008-05-07`. We'll then look at the occurences of words across all of these reviews, and generate a feature matrix of those words."
   ]
  },
  {
   "cell_type": "code",
   "execution_count": 12,
   "metadata": {},
   "outputs": [],
   "source": [
    "# a simple way to create a \"document\" for an inspection is to\n",
    "# concatenate all the reviews that happened before the inspection date\n",
    "def flatten_reviews(label_df, reviews):\n",
    "    \"\"\" label_df: inspection dataframe with date, restaurant_id\n",
    "        reviews: dataframe of reviews\n",
    "        \n",
    "        Returns all of the text of reviews previous to each\n",
    "        inspection listed in label_df.\n",
    "    \"\"\"\n",
    "    reviews_dictionary = {}\n",
    "    \n",
    "    N = len(label_df)\n",
    "\n",
    "    for i, (pid, row) in enumerate(label_df.iterrows()):\n",
    "        # we want to only get reviews for this restaurant that ocurred before the inspection\n",
    "        pre_inspection_mask = (reviews.date < row.date) & (reviews.restaurant_id == row.restaurant_id)\n",
    "        \n",
    "        # pre-inspection reviews\n",
    "        pre_inspection_reviews = reviews[pre_inspection_mask]\n",
    "        \n",
    "        # join the text\n",
    "        all_text = ' '.join(pre_inspection_reviews.text)\n",
    "\n",
    "        # store in dictionary\n",
    "        reviews_dictionary[pid] = all_text\n",
    "        \n",
    "        if i % 2500 == 0:\n",
    "            print '{} out of {}'.format(i, N)\n",
    "\n",
    "    # return series in same order as the original data frame\n",
    "    return pd.Series(reviews_dictionary)[label_df.index]"
   ]
  },
  {
   "cell_type": "markdown",
   "metadata": {},
   "source": [
    "<div class=\"alert alert-warning\">\n",
    "    <p><strong>Note!</strong> The following few cells can take quite a bit of memory. If you find yourself running out of memory, you may want to work on a smaller subset of the data.</p>\n",
    "    <p>\n",
    "    ... or you could go buy more memory <img src=\"http://www.emoji-cheat-sheet.com/graphics/emojis/trollface.png\" height=\"24\" width=\"24\" style=\"display: inline-block;\"/></p>\n",
    "</div>"
   ]
  },
  {
   "cell_type": "code",
   "execution_count": 13,
   "metadata": {},
   "outputs": [
    {
     "name": "stdout",
     "output_type": "stream",
     "text": [
      "0 out of 27088\n",
      "2500 out of 27088\n",
      "5000 out of 27088\n",
      "7500 out of 27088\n",
      "10000 out of 27088\n",
      "12500 out of 27088\n",
      "15000 out of 27088\n",
      "17500 out of 27088\n",
      "20000 out of 27088\n",
      "22500 out of 27088\n",
      "25000 out of 27088\n"
     ]
    },
    {
     "data": {
      "text/plain": [
       "id\n",
       "589      i'm posting this review on behalf of my boyfri...\n",
       "28589    A great addition to Peabody Square! It is an u...\n",
       "31170    This is definitely the best place to eat in Bo...\n",
       "2600     Well, it's nothing spectacular, but if you're ...\n",
       "1016     The thinking cup has a great atmosphere, I wou...\n",
       "dtype: object"
      ]
     },
     "execution_count": 13,
     "output_type": "execute_result",
     "metadata": {}
    }
   ],
   "source": [
    "train_text = flatten_reviews(train_labels, reviews)\n",
    "train_text.head()"
   ]
  },
  {
   "cell_type": "code",
   "execution_count": 14,
   "metadata": {},
   "outputs": [
    {
     "name": "stdout",
     "output_type": "stream",
     "text": [
      "0 out of 6772\n",
      "2500 out of 6772\n",
      "5000 out of 6772\n"
     ]
    },
    {
     "data": {
      "text/plain": [
       "id\n",
       "14916    I've walked by this place a lot and always won...\n",
       "29767    You pick up a lunch tray when you walk in and ...\n",
       "29338    Punjab Palace is the new Allston-area restaura...\n",
       "7219     Every first year student at Northeastern Unive...\n",
       "20979    Honestly, subpar.  Same greasy, tasty food as ...\n",
       "dtype: object"
      ]
     },
     "execution_count": 14,
     "output_type": "execute_result",
     "metadata": {}
    }
   ],
   "source": [
    "test_text = flatten_reviews(submission, reviews)\n",
    "test_text.head()"
   ]
  },
  {
   "cell_type": "code",
   "execution_count": 15,
   "metadata": {},
   "outputs": [],
   "source": [
    "from sklearn.feature_extraction.text import TfidfVectorizer\n",
    "\n",
    "# create a TfidfVectorizer object with english stop words\n",
    "# and a maximum of 1500 features (to ensure that we can\n",
    "# train the model in a reasonable amount of time)\n",
    "vec = TfidfVectorizer(stop_words='english',\n",
    "                      max_features=1500)\n",
    "\n",
    "# create the TfIdf feature matrix from the raw text\n",
    "train_tfidf = vec.fit_transform(train_text)"
   ]
  },
  {
   "cell_type": "code",
   "execution_count": 16,
   "metadata": {},
   "outputs": [
    {
     "data": {
      "text/html": [
       "<div style=\"max-height:1000px;max-width:1500px;overflow:auto;\">\n",
       "<table border=\"1\" class=\"dataframe\">\n",
       "  <thead>\n",
       "    <tr style=\"text-align: right;\">\n",
       "      <th></th>\n",
       "      <th>ago</th>\n",
       "      <th>agree</th>\n",
       "      <th>ahead</th>\n",
       "      <th>air</th>\n",
       "      <th>al</th>\n",
       "      <th>alcohol</th>\n",
       "      <th>allston</th>\n",
       "      <th>alright</th>\n",
       "      <th>amazing</th>\n",
       "      <th>ambiance</th>\n",
       "      <th>ambience</th>\n",
       "      <th>american</th>\n",
       "      <th>annoying</th>\n",
       "      <th>anymore</th>\n",
       "      <th>anyways</th>\n",
       "    </tr>\n",
       "  </thead>\n",
       "  <tbody>\n",
       "    <tr>\n",
       "      <th>0</th>\n",
       "      <td>0.000000</td>\n",
       "      <td>0.000000</td>\n",
       "      <td>0.049236</td>\n",
       "      <td>0.000000</td>\n",
       "      <td>0.00000</td>\n",
       "      <td>0.000000</td>\n",
       "      <td>0</td>\n",
       "      <td>0.000000</td>\n",
       "      <td>0.032329</td>\n",
       "      <td>0.000000</td>\n",
       "      <td>0.000000</td>\n",
       "      <td>0.000000</td>\n",
       "      <td>0.000000</td>\n",
       "      <td>0.000000</td>\n",
       "      <td>0.000000</td>\n",
       "    </tr>\n",
       "    <tr>\n",
       "      <th>1</th>\n",
       "      <td>0.000000</td>\n",
       "      <td>0.000000</td>\n",
       "      <td>0.011249</td>\n",
       "      <td>0.000000</td>\n",
       "      <td>0.00000</td>\n",
       "      <td>0.000000</td>\n",
       "      <td>0</td>\n",
       "      <td>0.000000</td>\n",
       "      <td>0.014773</td>\n",
       "      <td>0.010161</td>\n",
       "      <td>0.000000</td>\n",
       "      <td>0.000000</td>\n",
       "      <td>0.000000</td>\n",
       "      <td>0.000000</td>\n",
       "      <td>0.000000</td>\n",
       "    </tr>\n",
       "    <tr>\n",
       "      <th>2</th>\n",
       "      <td>0.000000</td>\n",
       "      <td>0.000000</td>\n",
       "      <td>0.000000</td>\n",
       "      <td>0.000000</td>\n",
       "      <td>0.00000</td>\n",
       "      <td>0.000000</td>\n",
       "      <td>0</td>\n",
       "      <td>0.000000</td>\n",
       "      <td>0.012445</td>\n",
       "      <td>0.034242</td>\n",
       "      <td>0.000000</td>\n",
       "      <td>0.000000</td>\n",
       "      <td>0.000000</td>\n",
       "      <td>0.000000</td>\n",
       "      <td>0.000000</td>\n",
       "    </tr>\n",
       "    <tr>\n",
       "      <th>3</th>\n",
       "      <td>0.007069</td>\n",
       "      <td>0.003506</td>\n",
       "      <td>0.001920</td>\n",
       "      <td>0.000000</td>\n",
       "      <td>0.00000</td>\n",
       "      <td>0.002052</td>\n",
       "      <td>0</td>\n",
       "      <td>0.003661</td>\n",
       "      <td>0.016389</td>\n",
       "      <td>0.005203</td>\n",
       "      <td>0.000000</td>\n",
       "      <td>0.003347</td>\n",
       "      <td>0.001929</td>\n",
       "      <td>0.003877</td>\n",
       "      <td>0.000000</td>\n",
       "    </tr>\n",
       "    <tr>\n",
       "      <th>4</th>\n",
       "      <td>0.002872</td>\n",
       "      <td>0.000000</td>\n",
       "      <td>0.001950</td>\n",
       "      <td>0.014178</td>\n",
       "      <td>0.00252</td>\n",
       "      <td>0.000000</td>\n",
       "      <td>0</td>\n",
       "      <td>0.000000</td>\n",
       "      <td>0.042260</td>\n",
       "      <td>0.019379</td>\n",
       "      <td>0.008716</td>\n",
       "      <td>0.001700</td>\n",
       "      <td>0.005879</td>\n",
       "      <td>0.001969</td>\n",
       "      <td>0.002036</td>\n",
       "    </tr>\n",
       "  </tbody>\n",
       "</table>\n",
       "</div>"
      ]
     },
     "output_type": "execute_result",
     "metadata": {}
    }
   ],
   "source": [
    "# take a quick look at some of the features\n",
    "pd.DataFrame(data=train_tfidf.todense(), columns=vec.get_feature_names()).iloc[:5, 30:45]"
   ]
  },
  {
   "cell_type": "markdown",
   "metadata": {},
   "source": [
    "<a id=\"model\"></a>\n",
    "\n",
    "# Our first model\n",
    "\n",
    "---------------\n",
    "\n",
    "Now it's time to make some predictions. We'll start off with a straightforward model: [ordinary least squares regression](http://en.wikipedia.org/wiki/Ordinary_least_squares). OLS can be written as:\n",
    "\n",
    "$$\n",
    "y_i = x_i ^T \\beta + \\varepsilon_i\n",
    "$$\n",
    "\n",
    "In our model, we can think of $i$ as a single inspection of a restaurant. $y_i$ is the number of violations the inspectors found during inspection $i$. We'll create three separate OLS models, one for each violation level [\\*, \\*\\*, \\*\\*\\*]. $x_i$ is the corresponding row in the TF-IDF matrix that we created above. \n",
    "\n",
    "$\\beta$ is the vector of coefficients that correspond to each word in the TF-IDF matrix. For example, the coefficient for the word \"annoying\" above, $\\beta_\\textrm{annoying}$, may be large relative to the other coefficients. Since all of our $x$ values are greater than zero, we can see from the linear regression equation that a larger $\\beta_\\textrm{annoying}$ means we will expect to see more violations ($y_i$) when the word \"annoying\" appears in a review. "
   ]
  },
  {
   "cell_type": "code",
   "execution_count": 17,
   "metadata": {},
   "outputs": [
    {
     "data": {
      "text/plain": [
       "LinearRegression(copy_X=True, fit_intercept=True, normalize=False)"
      ]
     },
     "execution_count": 17,
     "output_type": "execute_result",
     "metadata": {}
    }
   ],
   "source": [
    "from sklearn import linear_model\n",
    "\n",
    "# get just the targets from the training labels\n",
    "train_targets = train_labels[['*', '**', '***']].astype(np.float64)\n",
    "\n",
    "# create a Linear regresion object\n",
    "ols = linear_model.LinearRegression()\n",
    "\n",
    "# fit that object on the training TfIdf matrix and target variables\n",
    "ols.fit(train_tfidf, train_targets)"
   ]
  },
  {
   "cell_type": "markdown",
   "metadata": {},
   "source": [
    "That output is not very satisfying, is it? For kicks, let's see what the smallest and largest coefficients are. Remember, these coefficients determine the effect size for seeing a word a certain number of times. In general, the larger the coefficient, the more violations we might expect to see given an occurrence of that word.\n",
    "\n",
    "**Note:** this is not generally true of regression coefficients, but is here because we are looking at variables that are all constrained to the same scale."
   ]
  },
  {
   "cell_type": "code",
   "execution_count": 18,
   "metadata": {},
   "outputs": [
    {
     "data": {
      "text/html": [
       "<table><th>More Violations</th><th>Fewer Violations</th><tbody><tr><td>butter</td><td>basement</td></tr>\n",
       "<tr><td>diners</td><td>checking</td></tr>\n",
       "<tr><td>peppers</td><td>leaves</td></tr>\n",
       "<tr><td>pitcher</td><td>lighting</td></tr>\n",
       "<tr><td>received</td><td>number</td></tr>\n",
       "<tr><td>recommendation</td><td>parties</td></tr>\n",
       "<tr><td>reminded</td><td>paying</td></tr>\n",
       "<tr><td>rushed</td><td>pleasant</td></tr>\n",
       "<tr><td>strange</td><td>spectacular</td></tr>\n",
       "<tr><td>tempura</td><td>split</td></tr></tbody></table>"
      ]
     },
     "output_type": "execute_result",
     "metadata": {}
    }
   ],
   "source": [
    "# get the names of the features\n",
    "feature_names = np.array(vec.get_feature_names())\n",
    "\n",
    "def get_top_features(features, model, level, limit, bottom=False):\n",
    "    \"\"\" Get the top (most likely to see violations) and bottom (least\n",
    "        likely to see violations) features for a given model.\n",
    "        \n",
    "        :param features: an array of the feature names\n",
    "        :param model: a fitted linear regression model\n",
    "        :param level: 0, 1, 2 for *, **, *** violation levels\n",
    "        :param limit: how many features to return\n",
    "        :param worst: if we want the bottom features rather than the top \n",
    "    \"\"\"\n",
    "    # sort order for the coefficients\n",
    "    sorted_coeffs = np.argsort(model.coef_[i])\n",
    "    \n",
    "    if bottom:\n",
    "        # get the features at the end of the sorted list\n",
    "        return features[sorted_coeffs[-1 * limit:]]\n",
    "    else:\n",
    "        # get the features at the beginning of the sorted list\n",
    "        return features[sorted_coeffs[:limit]]\n",
    "    \n",
    "# get the features that indicate we are most and least likely to see violations\n",
    "worst_feature_sets = [get_top_features(feature_names, ols, i, 100) for i in range(3)]\n",
    "best_feature_sets = [get_top_features(feature_names, ols, i, 100, bottom=True) for i in range(3)]\n",
    "\n",
    "# reduce the independent feature sets to just the ones\n",
    "# that we see in common across the per-level models (*, **, ***)\n",
    "worst = reduce(np.intersect1d, best_feature_sets)\n",
    "best = reduce(np.intersect1d, worst_feature_sets)\n",
    "\n",
    "# display as a pretty table\n",
    "html_fmt = \"<table><th>More Violations</th><th>Fewer Violations</th><tbody>{}</tbody></table>\"\n",
    "table_rows = [\"<tr><td>{}</td><td>{}</td></tr>\".format(w, b) for w, b in zip(worst, best)]\n",
    "table_body = \"\\n\".join(table_rows)\n",
    "display.HTML(html_fmt.format(table_body))"
   ]
  },
  {
   "cell_type": "markdown",
   "metadata": {},
   "source": [
    "# Write the submission file for DrivenData\n",
    "\n",
    "Finally, we'll write out our predictions so we can submit them to the [Keeping it Fresh competition](http://www.drivendata.org/competitions/5/)."
   ]
  },
  {
   "cell_type": "code",
   "execution_count": 19,
   "metadata": {},
   "outputs": [],
   "source": [
    "# create the same tfidf matrix for the test set\n",
    "# so we can make predictions based on the same features\n",
    "test_tfidf = vec.transform(test_text)\n",
    "\n",
    "# predict the counts for the test set\n",
    "predictions = ols.predict(test_tfidf)\n",
    "\n",
    "# clip the predictions so they are all greater than or equal to zero\n",
    "# since we can't have negative counts of violations\n",
    "predictions = np.clip(predictions, 0, np.inf)"
   ]
  },
  {
   "cell_type": "code",
   "execution_count": 20,
   "metadata": {},
   "outputs": [
    {
     "data": {
      "text/html": [
       "<div style=\"max-height:1000px;max-width:1500px;overflow:auto;\">\n",
       "<table border=\"1\" class=\"dataframe\">\n",
       "  <thead>\n",
       "    <tr style=\"text-align: right;\">\n",
       "      <th></th>\n",
       "      <th>date</th>\n",
       "      <th>restaurant_id</th>\n",
       "      <th>*</th>\n",
       "      <th>**</th>\n",
       "      <th>***</th>\n",
       "    </tr>\n",
       "    <tr>\n",
       "      <th>id</th>\n",
       "      <th></th>\n",
       "      <th></th>\n",
       "      <th></th>\n",
       "      <th></th>\n",
       "      <th></th>\n",
       "    </tr>\n",
       "  </thead>\n",
       "  <tbody>\n",
       "    <tr>\n",
       "      <th>14916</th>\n",
       "      <td>2014-12-17</td>\n",
       "      <td>nkOvZOBW</td>\n",
       "      <td>5</td>\n",
       "      <td>0</td>\n",
       "      <td>0</td>\n",
       "    </tr>\n",
       "    <tr>\n",
       "      <th>29767</th>\n",
       "      <td>2013-12-30</td>\n",
       "      <td>WwOaAnOB</td>\n",
       "      <td>4</td>\n",
       "      <td>0</td>\n",
       "      <td>1</td>\n",
       "    </tr>\n",
       "    <tr>\n",
       "      <th>29338</th>\n",
       "      <td>2011-04-08</td>\n",
       "      <td>we39kvOk</td>\n",
       "      <td>2</td>\n",
       "      <td>0</td>\n",
       "      <td>0</td>\n",
       "    </tr>\n",
       "    <tr>\n",
       "      <th>7219</th>\n",
       "      <td>2013-12-30</td>\n",
       "      <td>dj3d5Xo9</td>\n",
       "      <td>2</td>\n",
       "      <td>0</td>\n",
       "      <td>0</td>\n",
       "    </tr>\n",
       "    <tr>\n",
       "      <th>20979</th>\n",
       "      <td>2008-03-31</td>\n",
       "      <td>XJ3rBW3R</td>\n",
       "      <td>4</td>\n",
       "      <td>0</td>\n",
       "      <td>1</td>\n",
       "    </tr>\n",
       "  </tbody>\n",
       "</table>\n",
       "</div>"
      ]
     },
     "output_type": "execute_result",
     "metadata": {}
    }
   ],
   "source": [
    "# write the submission file\n",
    "new_submission = submission.copy()\n",
    "new_submission.iloc[:, -3:] = predictions.astype(int)\n",
    "new_submission.to_csv(\"LinearRegression.csv\")\n",
    "new_submission.head()"
   ]
  },
  {
   "cell_type": "markdown",
   "metadata": {},
   "source": [
    "![](img/score3.png)"
   ]
  },
  {
   "cell_type": "markdown",
   "metadata": {},
   "source": [
    "<p><div class=\"well\" align=\"center\">\n",
    "<a href=\"http://www.drivendata.org\"><img src='img/dd.png' style=\"width:100%\"/></a>\n",
    "<h1>[www.drivendata.org](http://www.drivendata.org)\n",
    "</h1></div>\n",
    "\n",
    "* Check out our <strong>[forum](http://community.drivendata.org/)</strong>\n",
    "* Or, give us a shout out on twitter: **[@drivendataorg](https://twitter.com/drivendataorg)**\n"
   ]
  }
 ],
 "metadata": {
  "kernelspec": {
   "display_name": "Python 2",
   "language": "python",
   "name": "python2"
  },
  "language_info": {
   "codemirror_mode": {
    "name": "ipython",
    "version": 2.0
   },
   "file_extension": ".py",
   "mimetype": "text/x-python",
   "name": "python",
   "nbconvert_exporter": "python",
   "pygments_lexer": "ipython2",
   "version": "2.7.8"
  }
 },
 "nbformat": 4,
 "nbformat_minor": 0
}