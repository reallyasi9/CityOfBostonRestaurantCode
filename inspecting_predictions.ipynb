{
 "cells": [
  {
   "cell_type": "code",
   "execution_count": 1,
   "metadata": {
    "collapsed": true
   },
   "outputs": [],
   "source": [
    "%matplotlib inline\n",
    "\n",
    "import pandas\n",
    "import matplotlib.pyplot\n",
    "import re\n",
    "import sklearn.linear_model\n",
    "import sklearn.grid_search\n",
    "import math\n",
    "import scipy.stats"
   ]
  },
  {
   "cell_type": "code",
   "execution_count": 2,
   "metadata": {
    "collapsed": false
   },
   "outputs": [
    {
     "data": {
      "text/html": [
       "<div style=\"max-height:1000px;max-width:1500px;overflow:auto;\">\n",
       "<table border=\"1\" class=\"dataframe\">\n",
       "  <thead>\n",
       "    <tr style=\"text-align: right;\">\n",
       "      <th></th>\n",
       "      <th>restaurant_id</th>\n",
       "      <th>date</th>\n",
       "      <th>*</th>\n",
       "      <th>**</th>\n",
       "      <th>***</th>\n",
       "      <th>last*</th>\n",
       "      <th>last**</th>\n",
       "      <th>last***</th>\n",
       "      <th>p*</th>\n",
       "      <th>p**</th>\n",
       "      <th>...</th>\n",
       "      <th>neighborhoods.South End</th>\n",
       "      <th>neighborhoods.Uphams Corner</th>\n",
       "      <th>neighborhoods.Waterfront</th>\n",
       "      <th>neighborhoods.West Roxbury</th>\n",
       "      <th>neighborhoods.West Roxbury Center</th>\n",
       "      <th>open</th>\n",
       "      <th>review_count</th>\n",
       "      <th>stars</th>\n",
       "      <th>zip</th>\n",
       "      <th>first</th>\n",
       "    </tr>\n",
       "    <tr>\n",
       "      <th>id</th>\n",
       "      <th></th>\n",
       "      <th></th>\n",
       "      <th></th>\n",
       "      <th></th>\n",
       "      <th></th>\n",
       "      <th></th>\n",
       "      <th></th>\n",
       "      <th></th>\n",
       "      <th></th>\n",
       "      <th></th>\n",
       "      <th></th>\n",
       "      <th></th>\n",
       "      <th></th>\n",
       "      <th></th>\n",
       "      <th></th>\n",
       "      <th></th>\n",
       "      <th></th>\n",
       "      <th></th>\n",
       "      <th></th>\n",
       "      <th></th>\n",
       "      <th></th>\n",
       "    </tr>\n",
       "  </thead>\n",
       "  <tbody>\n",
       "    <tr>\n",
       "      <th>28144</th>\n",
       "      <td> 0ZED0WED</td>\n",
       "      <td> 1190332800</td>\n",
       "      <td> 3</td>\n",
       "      <td> 1</td>\n",
       "      <td> 0</td>\n",
       "      <td> 0</td>\n",
       "      <td> 0</td>\n",
       "      <td> 0</td>\n",
       "      <td> 0.000000</td>\n",
       "      <td> 0.000000</td>\n",
       "      <td>...</td>\n",
       "      <td> 1</td>\n",
       "      <td> 1</td>\n",
       "      <td> 1</td>\n",
       "      <td> 1</td>\n",
       "      <td> 1</td>\n",
       "      <td> 1</td>\n",
       "      <td> 66</td>\n",
       "      <td> 3.5</td>\n",
       "      <td> 2124</td>\n",
       "      <td> 1</td>\n",
       "    </tr>\n",
       "    <tr>\n",
       "      <th>27691</th>\n",
       "      <td> 0ZED0WED</td>\n",
       "      <td> 1190937600</td>\n",
       "      <td> 3</td>\n",
       "      <td> 1</td>\n",
       "      <td> 0</td>\n",
       "      <td> 3</td>\n",
       "      <td> 1</td>\n",
       "      <td> 0</td>\n",
       "      <td> 3.000000</td>\n",
       "      <td> 1.000000</td>\n",
       "      <td>...</td>\n",
       "      <td> 1</td>\n",
       "      <td> 1</td>\n",
       "      <td> 1</td>\n",
       "      <td> 1</td>\n",
       "      <td> 1</td>\n",
       "      <td> 1</td>\n",
       "      <td> 66</td>\n",
       "      <td> 3.5</td>\n",
       "      <td> 2124</td>\n",
       "      <td> 0</td>\n",
       "    </tr>\n",
       "    <tr>\n",
       "      <th>24765</th>\n",
       "      <td> 0ZED0WED</td>\n",
       "      <td> 1206489600</td>\n",
       "      <td> 3</td>\n",
       "      <td> 1</td>\n",
       "      <td> 0</td>\n",
       "      <td> 3</td>\n",
       "      <td> 1</td>\n",
       "      <td> 0</td>\n",
       "      <td> 3.000000</td>\n",
       "      <td> 1.000000</td>\n",
       "      <td>...</td>\n",
       "      <td> 1</td>\n",
       "      <td> 1</td>\n",
       "      <td> 1</td>\n",
       "      <td> 1</td>\n",
       "      <td> 1</td>\n",
       "      <td> 1</td>\n",
       "      <td> 66</td>\n",
       "      <td> 3.5</td>\n",
       "      <td> 2124</td>\n",
       "      <td> 0</td>\n",
       "    </tr>\n",
       "    <tr>\n",
       "      <th>31333</th>\n",
       "      <td> 0ZED0WED</td>\n",
       "      <td> 1207094400</td>\n",
       "      <td> 3</td>\n",
       "      <td> 1</td>\n",
       "      <td> 0</td>\n",
       "      <td> 3</td>\n",
       "      <td> 1</td>\n",
       "      <td> 0</td>\n",
       "      <td> 3.000000</td>\n",
       "      <td> 1.000000</td>\n",
       "      <td>...</td>\n",
       "      <td> 1</td>\n",
       "      <td> 1</td>\n",
       "      <td> 1</td>\n",
       "      <td> 1</td>\n",
       "      <td> 1</td>\n",
       "      <td> 1</td>\n",
       "      <td> 66</td>\n",
       "      <td> 3.5</td>\n",
       "      <td> 2124</td>\n",
       "      <td> 0</td>\n",
       "    </tr>\n",
       "    <tr>\n",
       "      <th>25193</th>\n",
       "      <td> 0ZED0WED</td>\n",
       "      <td> 1223424000</td>\n",
       "      <td> 6</td>\n",
       "      <td> 2</td>\n",
       "      <td> 4</td>\n",
       "      <td> 3</td>\n",
       "      <td> 1</td>\n",
       "      <td> 0</td>\n",
       "      <td> 3.000000</td>\n",
       "      <td> 1.000000</td>\n",
       "      <td>...</td>\n",
       "      <td> 1</td>\n",
       "      <td> 1</td>\n",
       "      <td> 1</td>\n",
       "      <td> 1</td>\n",
       "      <td> 1</td>\n",
       "      <td> 1</td>\n",
       "      <td> 66</td>\n",
       "      <td> 3.5</td>\n",
       "      <td> 2124</td>\n",
       "      <td> 0</td>\n",
       "    </tr>\n",
       "    <tr>\n",
       "      <th>14328</th>\n",
       "      <td> 0ZED0WED</td>\n",
       "      <td> 1224028800</td>\n",
       "      <td> 6</td>\n",
       "      <td> 2</td>\n",
       "      <td> 4</td>\n",
       "      <td> 6</td>\n",
       "      <td> 2</td>\n",
       "      <td> 4</td>\n",
       "      <td> 4.540390</td>\n",
       "      <td> 1.513463</td>\n",
       "      <td>...</td>\n",
       "      <td> 1</td>\n",
       "      <td> 1</td>\n",
       "      <td> 1</td>\n",
       "      <td> 1</td>\n",
       "      <td> 1</td>\n",
       "      <td> 1</td>\n",
       "      <td> 66</td>\n",
       "      <td> 3.5</td>\n",
       "      <td> 2124</td>\n",
       "      <td> 0</td>\n",
       "    </tr>\n",
       "    <tr>\n",
       "      <th>12775</th>\n",
       "      <td> 0ZED0WED</td>\n",
       "      <td> 1236038400</td>\n",
       "      <td> 3</td>\n",
       "      <td> 0</td>\n",
       "      <td> 0</td>\n",
       "      <td> 6</td>\n",
       "      <td> 2</td>\n",
       "      <td> 4</td>\n",
       "      <td> 5.048200</td>\n",
       "      <td> 1.682733</td>\n",
       "      <td>...</td>\n",
       "      <td> 1</td>\n",
       "      <td> 1</td>\n",
       "      <td> 1</td>\n",
       "      <td> 1</td>\n",
       "      <td> 1</td>\n",
       "      <td> 1</td>\n",
       "      <td> 66</td>\n",
       "      <td> 3.5</td>\n",
       "      <td> 2124</td>\n",
       "      <td> 0</td>\n",
       "    </tr>\n",
       "    <tr>\n",
       "      <th>25850</th>\n",
       "      <td> 0ZED0WED</td>\n",
       "      <td> 1248307200</td>\n",
       "      <td> 1</td>\n",
       "      <td> 0</td>\n",
       "      <td> 2</td>\n",
       "      <td> 3</td>\n",
       "      <td> 0</td>\n",
       "      <td> 0</td>\n",
       "      <td> 4.173916</td>\n",
       "      <td> 0.964450</td>\n",
       "      <td>...</td>\n",
       "      <td> 1</td>\n",
       "      <td> 1</td>\n",
       "      <td> 1</td>\n",
       "      <td> 1</td>\n",
       "      <td> 1</td>\n",
       "      <td> 1</td>\n",
       "      <td> 66</td>\n",
       "      <td> 3.5</td>\n",
       "      <td> 2124</td>\n",
       "      <td> 0</td>\n",
       "    </tr>\n",
       "    <tr>\n",
       "      <th>17443</th>\n",
       "      <td> 0ZED0WED</td>\n",
       "      <td> 1259712000</td>\n",
       "      <td> 3</td>\n",
       "      <td> 1</td>\n",
       "      <td> 1</td>\n",
       "      <td> 1</td>\n",
       "      <td> 0</td>\n",
       "      <td> 2</td>\n",
       "      <td> 2.645459</td>\n",
       "      <td> 0.500002</td>\n",
       "      <td>...</td>\n",
       "      <td> 1</td>\n",
       "      <td> 1</td>\n",
       "      <td> 1</td>\n",
       "      <td> 1</td>\n",
       "      <td> 1</td>\n",
       "      <td> 1</td>\n",
       "      <td> 66</td>\n",
       "      <td> 3.5</td>\n",
       "      <td> 2124</td>\n",
       "      <td> 0</td>\n",
       "    </tr>\n",
       "    <tr>\n",
       "      <th>5576 </th>\n",
       "      <td> 0ZED0WED</td>\n",
       "      <td> 1260316800</td>\n",
       "      <td> 3</td>\n",
       "      <td> 1</td>\n",
       "      <td> 1</td>\n",
       "      <td> 3</td>\n",
       "      <td> 1</td>\n",
       "      <td> 1</td>\n",
       "      <td> 2.822028</td>\n",
       "      <td> 0.749011</td>\n",
       "      <td>...</td>\n",
       "      <td> 1</td>\n",
       "      <td> 1</td>\n",
       "      <td> 1</td>\n",
       "      <td> 1</td>\n",
       "      <td> 1</td>\n",
       "      <td> 1</td>\n",
       "      <td> 66</td>\n",
       "      <td> 3.5</td>\n",
       "      <td> 2124</td>\n",
       "      <td> 0</td>\n",
       "    </tr>\n",
       "  </tbody>\n",
       "</table>\n",
       "<p>10 rows × 291 columns</p>\n",
       "</div>"
      ],
      "text/plain": [
       "      restaurant_id        date  *  **  ***  last*  last**  last***        p*  \\\n",
       "id                                                                              \n",
       "28144      0ZED0WED  1190332800  3   1    0      0       0        0  0.000000   \n",
       "27691      0ZED0WED  1190937600  3   1    0      3       1        0  3.000000   \n",
       "24765      0ZED0WED  1206489600  3   1    0      3       1        0  3.000000   \n",
       "31333      0ZED0WED  1207094400  3   1    0      3       1        0  3.000000   \n",
       "25193      0ZED0WED  1223424000  6   2    4      3       1        0  3.000000   \n",
       "14328      0ZED0WED  1224028800  6   2    4      6       2        4  4.540390   \n",
       "12775      0ZED0WED  1236038400  3   0    0      6       2        4  5.048200   \n",
       "25850      0ZED0WED  1248307200  1   0    2      3       0        0  4.173916   \n",
       "17443      0ZED0WED  1259712000  3   1    1      1       0        2  2.645459   \n",
       "5576       0ZED0WED  1260316800  3   1    1      3       1        1  2.822028   \n",
       "\n",
       "            p**  ...    neighborhoods.South End  neighborhoods.Uphams Corner  \\\n",
       "id               ...                                                           \n",
       "28144  0.000000  ...                          1                            1   \n",
       "27691  1.000000  ...                          1                            1   \n",
       "24765  1.000000  ...                          1                            1   \n",
       "31333  1.000000  ...                          1                            1   \n",
       "25193  1.000000  ...                          1                            1   \n",
       "14328  1.513463  ...                          1                            1   \n",
       "12775  1.682733  ...                          1                            1   \n",
       "25850  0.964450  ...                          1                            1   \n",
       "17443  0.500002  ...                          1                            1   \n",
       "5576   0.749011  ...                          1                            1   \n",
       "\n",
       "       neighborhoods.Waterfront  neighborhoods.West Roxbury  \\\n",
       "id                                                            \n",
       "28144                         1                           1   \n",
       "27691                         1                           1   \n",
       "24765                         1                           1   \n",
       "31333                         1                           1   \n",
       "25193                         1                           1   \n",
       "14328                         1                           1   \n",
       "12775                         1                           1   \n",
       "25850                         1                           1   \n",
       "17443                         1                           1   \n",
       "5576                          1                           1   \n",
       "\n",
       "      neighborhoods.West Roxbury Center  open  review_count  stars   zip  \\\n",
       "id                                                                         \n",
       "28144                                 1     1            66    3.5  2124   \n",
       "27691                                 1     1            66    3.5  2124   \n",
       "24765                                 1     1            66    3.5  2124   \n",
       "31333                                 1     1            66    3.5  2124   \n",
       "25193                                 1     1            66    3.5  2124   \n",
       "14328                                 1     1            66    3.5  2124   \n",
       "12775                                 1     1            66    3.5  2124   \n",
       "25850                                 1     1            66    3.5  2124   \n",
       "17443                                 1     1            66    3.5  2124   \n",
       "5576                                  1     1            66    3.5  2124   \n",
       "\n",
       "       first  \n",
       "id            \n",
       "28144      1  \n",
       "27691      0  \n",
       "24765      0  \n",
       "31333      0  \n",
       "25193      0  \n",
       "14328      0  \n",
       "12775      0  \n",
       "25850      0  \n",
       "17443      0  \n",
       "5576       0  \n",
       "\n",
       "[10 rows x 291 columns]"
      ]
     },
     "execution_count": 2,
     "metadata": {},
     "output_type": "execute_result"
    }
   ],
   "source": [
    "train_df = pandas.DataFrame.from_csv(\"processed_data/training_data_raw.csv\", index_col=\"id\")\n",
    "phase1_df = pandas.DataFrame.from_csv(\"processed_data/submission_data_raw.csv\", index_col=\"id\")\n",
    "phase2_df = pandas.DataFrame.from_csv(\"processed_data/phase2_data_raw.csv\", index_col=\"id\")\n",
    "# Drop worthless checkin data\n",
    "worthless_re = re.compile(r\"^checkin_info\")\n",
    "worthless_cols = [col for col in train_df.columns for m in [worthless_re.search(col)] if m]\n",
    "train_df.drop(worthless_cols, inplace=True, axis=\"columns\")\n",
    "phase1_df.drop(worthless_cols, inplace=True, axis=\"columns\")\n",
    "phase2_df.drop(worthless_cols, inplace=True, axis=\"columns\")\n",
    "# Add a column that tells me whether or not this is the first measurement\n",
    "first_ids = train_df.groupby(\"restaurant_id\")[\"date\"].nsmallest(1).reset_index(\"id\")[\"id\"]\n",
    "first_inspections = train_df.index.isin(first_ids)\n",
    "train_df[\"first\"] = 0.\n",
    "train_df.loc[first_inspections, \"first\"] = 1.\n",
    "train_df.head(10)"
   ]
  },
  {
   "cell_type": "code",
   "execution_count": 3,
   "metadata": {
    "collapsed": false
   },
   "outputs": [
    {
     "data": {
      "text/plain": [
       "<matplotlib.text.Text at 0x7f0858806b00>"
      ]
     },
     "execution_count": 3,
     "metadata": {},
     "output_type": "execute_result"
    },
    {
     "data": {
      "image/png": "[encoded data removed]",
      "text/plain": [
       "<matplotlib.figure.Figure at 0x7f0858cb1ef0>"
      ]
     },
     "metadata": {},
     "output_type": "display_data"
    }
   ],
   "source": [
    "fig1, axs1 = matplotlib.pyplot.subplots(3, sharex=True)\n",
    "fig1.set_size_inches(12, 8)\n",
    "\n",
    "for i, label in enumerate(['*', '**', '***']):\n",
    "    train_data = train_df.reset_index()[label]\n",
    "    axs1[i].hist(train_data, normed=True, bins=range(0, 15), facecolor='red', alpha=0.5)\n",
    "    \n",
    "axs1[2].set_xlabel(\"Number of Violations\")\n",
    "axs1[1].set_ylabel(\"Proportion of Restaurants\")"
   ]
  },
  {
   "cell_type": "code",
   "execution_count": 4,
   "metadata": {
    "collapsed": false
   },
   "outputs": [
    {
     "data": {
      "text/plain": [
       "<matplotlib.text.Text at 0x7f08586f55c0>"
      ]
     },
     "execution_count": 4,
     "metadata": {},
     "output_type": "execute_result"
    },
    {
     "data": {
      "image/png": "[encoded data removed]",
      "text/plain": [
       "<matplotlib.figure.Figure at 0x7f0858cb1470>"
      ]
     },
     "metadata": {},
     "output_type": "display_data"
    }
   ],
   "source": [
    "fig2, axs2 = matplotlib.pyplot.subplots(3, sharex=True)\n",
    "fig2.set_size_inches(12, 8)\n",
    "\n",
    "for i, label in enumerate(['*', '**', '***']):\n",
    "    train_data = train_df.reset_index().groupby(\"restaurant_id\")[label].std()\n",
    "    axs2[i].hist(train_data, normed=True, bins=range(0, 15), facecolor='green', alpha=0.5)\n",
    "\n",
    "axs2[2].set_xlabel(\"STD of Violations\")\n",
    "axs2[1].set_ylabel(\"Proportion of Restaurants\")"
   ]
  },
  {
   "cell_type": "code",
   "execution_count": 5,
   "metadata": {
    "collapsed": false
   },
   "outputs": [
    {
     "name": "stdout",
     "output_type": "stream",
     "text": [
      "id\n",
      "27691    0ZED0WED\n",
      "24765    0ZED0WED\n",
      "31333    0ZED0WED\n",
      "25193    0ZED0WED\n",
      "14328    0ZED0WED\n",
      "12775    0ZED0WED\n",
      "25850    0ZED0WED\n",
      "17443    0ZED0WED\n",
      "5576     0ZED0WED\n",
      "4180     0ZED0WED\n",
      "33309    0ZED0WED\n",
      "3527     0ZED0WED\n",
      "22246    0ZED0WED\n",
      "17990    0ZED0WED\n",
      "1601     0ZED0WED\n",
      "...\n",
      "26392    ydEjx9oW\n",
      "31085    ydEjx9oW\n",
      "23210    ydEjz7EW\n",
      "23077    ydEjz7EW\n",
      "8107     ydEjz7EW\n",
      "5888     ydEjz7EW\n",
      "9063     ydEjz7EW\n",
      "24540    ydEjz7EW\n",
      "3409     ydEjz7EW\n",
      "29116    ydEjz7EW\n",
      "9652     ydEjz7EW\n",
      "3501     ydEjz7EW\n",
      "31777    ydEjz7EW\n",
      "21278    ydEjz7EW\n",
      "11991    ydEjz7EW\n",
      "Name: restaurant_id, Length: 25189, dtype: object\n"
     ]
    }
   ],
   "source": [
    "singlets = train_df[\"restaurant_id\"].isin(train_df.groupby(\"restaurant_id\").count().query(\"date == 1\").index)\n",
    "doublets = train_df[\"restaurant_id\"].isin(train_df.groupby(\"restaurant_id\").count().query(\"date == 2\").index)\n",
    "singles_df = train_df[(doublets | singlets | first_inspections)]\n",
    "non_singles_df = train_df[~(doublets | singlets | first_inspections)]\n",
    "\n",
    "print(non_singles_df[\"restaurant_id\"])"
   ]
  },
  {
   "cell_type": "code",
   "execution_count": 6,
   "metadata": {
    "collapsed": false
   },
   "outputs": [
    {
     "data": {
      "text/plain": [
       "<matplotlib.text.Text at 0x7f08585acda0>"
      ]
     },
     "execution_count": 6,
     "metadata": {},
     "output_type": "execute_result"
    },
    {
     "data": {
      "image/png": "[encoded data removed]",
      "text/plain": [
       "<matplotlib.figure.Figure at 0x7f0858588c50>"
      ]
     },
     "metadata": {},
     "output_type": "display_data"
    }
   ],
   "source": [
    "fig3, axs3 = matplotlib.pyplot.subplots(3, sharex=True)\n",
    "fig3.set_size_inches(12, 8)\n",
    "\n",
    "for i, label in enumerate(['*', '**', '***']):\n",
    "    train_data = non_singles_df.reset_index().groupby(\"restaurant_id\")[label].std()\n",
    "    axs3[i].hist(train_data, normed=True, bins=range(0, 15), facecolor='green', alpha=0.5)\n",
    "\n",
    "axs3[2].set_xlabel(\"STD of Violations\")\n",
    "axs3[1].set_ylabel(\"Proportion of Restaurants\")"
   ]
  },
  {
   "cell_type": "code",
   "execution_count": 104,
   "metadata": {
    "collapsed": true
   },
   "outputs": [],
   "source": [
    "def rmsle(p, y):\n",
    "    log_pred = p.apply(lambda x: math.log(x + 1))\n",
    "    log_true = y.apply(lambda x: math.log(x + 1))\n",
    "    s = math.sqrt(1/y.shape[0] * (log_pred - log_true).pow(2).sum())\n",
    "    return s\n",
    "\n",
    "def rmsle_w(p, y, weights=[1, 3, 5]):\n",
    "    log_sum = 0\n",
    "    for i in range(0, y.shape[1]):\n",
    "        log_pred = p.iloc[:, i].apply(lambda x: math.log(weights[i] * x + 1))\n",
    "        log_true = y.iloc[:, i].apply(lambda x: math.log(weights[i] * x + 1))\n",
    "        log_sum += (log_pred - log_true).pow(2).sum()\n",
    "    s = math.sqrt(1/y.shape[0] * log_sum)\n",
    "    return s\n",
    "\n",
    "\n",
    "def rmsle_score(estimator, X, y):\n",
    "    return rmsle_w(pandas.Series(estimator.predict(X), index=y.index).clip_lower(0), y)"
   ]
  },
  {
   "cell_type": "code",
   "execution_count": 94,
   "metadata": {
    "collapsed": false,
    "scrolled": true
   },
   "outputs": [
    {
     "name": "stderr",
     "output_type": "stream",
     "text": [
      "[Parallel(n_jobs=1)]: Done   1 jobs       | elapsed:    0.0s\n",
      "[Parallel(n_jobs=1)]: Done   3 out of   3 | elapsed:    0.1s finished\n"
     ]
    },
    {
     "name": "stdout",
     "output_type": "stream",
     "text": [
      "Fitting 3 folds for each of 1 candidates, totalling 3 fits\n",
      "Best parameters:"
     ]
    },
    {
     "name": "stderr",
     "output_type": "stream",
     "text": [
      "[Parallel(n_jobs=1)]: Done   1 jobs       | elapsed:    0.0s\n",
      "[Parallel(n_jobs=1)]: Done   3 out of   3 | elapsed:    0.1s finished\n"
     ]
    },
    {
     "name": "stdout",
     "output_type": "stream",
     "text": [
      "\n",
      "{}\n",
      "Best score:\n",
      "0.8114735448442372\n",
      "Best coefficients:\n",
      "[ 0.04891926  0.08302571 -0.08619595  0.42074507 -0.13319006 -0.00280036\n",
      "  0.07023233  0.21090563 -0.04443548]\n",
      "Fitting 3 folds for each of 1 candidates, totalling 3 fits\n",
      "Best parameters:"
     ]
    },
    {
     "name": "stderr",
     "output_type": "stream",
     "text": [
      "[Parallel(n_jobs=1)]: Done   1 jobs       | elapsed:    0.0s\n",
      "[Parallel(n_jobs=1)]: Done   3 out of   3 | elapsed:    0.1s finished\n"
     ]
    },
    {
     "name": "stdout",
     "output_type": "stream",
     "text": [
      "\n",
      "{}\n",
      "Best score:\n",
      "0.3351738742292593\n",
      "Best coefficients:\n",
      "[ 0.00916379 -0.05428548 -0.00758625 -0.00667251  0.4666648   0.00128567\n",
      "  0.00509124  0.09941303 -0.00694422]\n",
      "Fitting 3 folds for each of 1 candidates, totalling 3 fits\n",
      "Best parameters:\n",
      "{}\n",
      "Best score:\n",
      "0.5420488731448305\n",
      "Best coefficients:\n",
      "[ 0.011346    0.03480476 -0.02013539 -0.01573201 -0.06444583  0.45701772\n",
      " -0.00543625 -0.0036254   0.0518679 ]\n"
     ]
    }
   ],
   "source": [
    "# For non-singlets/doublets, predict based on previous violation data\n",
    "non_singles_predict_cols = [\"p*\", \"p**\", \"p***\", \"last*\", \"last**\", \"last***\", \"std*\", \"std**\", \"std***\"]\n",
    "regressor = sklearn.linear_model.ElasticNet(normalize=True, precompute=True)\n",
    "grid_vars = {}\n",
    "    #\"alpha\": scipy.stats.uniform(loc=0, scale=1),\n",
    "    #        \"l1_ratio\": scipy.stats.uniform()}\n",
    "\n",
    "best_non_singles_regressors = []\n",
    "for label in ['*', '**', '***']:\n",
    "    search = sklearn.grid_search.RandomizedSearchCV(sklearn.linear_model.Lars(normalize=True),\n",
    "                                                    param_distributions=grid_vars,\n",
    "                                                    n_iter=1,\n",
    "                                                    scoring=rmsle_score,\n",
    "                                                    cv=3,\n",
    "                                                    verbose=1,\n",
    "                                                    refit=True)\n",
    "    search.fit(non_singles_df[non_singles_predict_cols], non_singles_df[label])\n",
    "    print(\"Best parameters:\")\n",
    "    print(search.best_params_)\n",
    "    print(\"Best score:\")\n",
    "    print(search.best_score_)\n",
    "    print(\"Best coefficients:\")\n",
    "    print(search.best_estimator_.coef_)\n",
    "    best_non_singles_regressors = best_non_singles_regressors + [search.best_estimator_]\n"
   ]
  },
  {
   "cell_type": "code",
   "execution_count": 95,
   "metadata": {
    "collapsed": false
   },
   "outputs": [
    {
     "name": "stderr",
     "output_type": "stream",
     "text": [
      "/home/paste/.local/lib/python3.4/site-packages/sklearn/linear_model/least_angle.py:285: ConvergenceWarning: Regressors in active set degenerate. Dropping a regressor, after 83 iterations, i.e. alpha=4.017e-06, with an active set of 82 regressors, and the smallest cholesky pivot element being 5.373e-08\n",
      "  ConvergenceWarning)\n",
      "[Parallel(n_jobs=1)]: Done   1 jobs       | elapsed:    0.0s\n",
      "/home/paste/.local/lib/python3.4/site-packages/sklearn/linear_model/least_angle.py:285: ConvergenceWarning: Regressors in active set degenerate. Dropping a regressor, after 83 iterations, i.e. alpha=2.027e-05, with an active set of 81 regressors, and the smallest cholesky pivot element being 1.825e-08\n",
      "  ConvergenceWarning)\n",
      "/home/paste/.local/lib/python3.4/site-packages/sklearn/linear_model/least_angle.py:285: ConvergenceWarning: Regressors in active set degenerate. Dropping a regressor, after 84 iterations, i.e. alpha=1.561e-06, with an active set of 82 regressors, and the smallest cholesky pivot element being 1.825e-08\n",
      "  ConvergenceWarning)\n",
      "/home/paste/.local/lib/python3.4/site-packages/sklearn/linear_model/least_angle.py:285: ConvergenceWarning: Regressors in active set degenerate. Dropping a regressor, after 82 iterations, i.e. alpha=2.110e-05, with an active set of 81 regressors, and the smallest cholesky pivot element being 1.825e-08\n",
      "  ConvergenceWarning)\n"
     ]
    },
    {
     "name": "stdout",
     "output_type": "stream",
     "text": [
      "Fitting 10 folds for each of 1 candidates, totalling 10 fits\n",
      "Best parameters:"
     ]
    },
    {
     "name": "stderr",
     "output_type": "stream",
     "text": [
      "/home/paste/.local/lib/python3.4/site-packages/sklearn/linear_model/least_angle.py:285: ConvergenceWarning: Regressors in active set degenerate. Dropping a regressor, after 83 iterations, i.e. alpha=7.649e-06, with an active set of 82 regressors, and the smallest cholesky pivot element being 1.825e-08\n",
      "  ConvergenceWarning)\n",
      "[Parallel(n_jobs=1)]: Done  10 out of  10 | elapsed:    0.3s finished\n",
      "/home/paste/.local/lib/python3.4/site-packages/sklearn/linear_model/least_angle.py:285: ConvergenceWarning: Regressors in active set degenerate. Dropping a regressor, after 74 iterations, i.e. alpha=4.999e-05, with an active set of 71 regressors, and the smallest cholesky pivot element being 4.215e-08\n",
      "  ConvergenceWarning)\n",
      "/home/paste/.local/lib/python3.4/site-packages/sklearn/linear_model/least_angle.py:285: ConvergenceWarning: Regressors in active set degenerate. Dropping a regressor, after 81 iterations, i.e. alpha=3.371e-05, with an active set of 77 regressors, and the smallest cholesky pivot element being 4.215e-08\n",
      "  ConvergenceWarning)\n",
      "/home/paste/.local/lib/python3.4/site-packages/sklearn/linear_model/least_angle.py:285: ConvergenceWarning: Regressors in active set degenerate. Dropping a regressor, after 83 iterations, i.e. alpha=1.559e-05, with an active set of 79 regressors, and the smallest cholesky pivot element being 4.215e-08\n",
      "  ConvergenceWarning)\n",
      "/home/paste/.local/lib/python3.4/site-packages/sklearn/linear_model/least_angle.py:285: ConvergenceWarning: Regressors in active set degenerate. Dropping a regressor, after 84 iterations, i.e. alpha=2.009e-06, with an active set of 80 regressors, and the smallest cholesky pivot element being 4.215e-08\n",
      "  ConvergenceWarning)\n",
      "/home/paste/.local/lib/python3.4/site-packages/sklearn/linear_model/least_angle.py:285: ConvergenceWarning: Regressors in active set degenerate. Dropping a regressor, after 86 iterations, i.e. alpha=9.952e-07, with an active set of 82 regressors, and the smallest cholesky pivot element being 4.215e-08\n",
      "  ConvergenceWarning)\n",
      "[Parallel(n_jobs=1)]: Done   1 jobs       | elapsed:    0.0s\n",
      "/home/paste/.local/lib/python3.4/site-packages/sklearn/linear_model/least_angle.py:285: ConvergenceWarning: Regressors in active set degenerate. Dropping a regressor, after 72 iterations, i.e. alpha=4.525e-05, with an active set of 71 regressors, and the smallest cholesky pivot element being 2.107e-08\n",
      "  ConvergenceWarning)\n"
     ]
    },
    {
     "name": "stdout",
     "output_type": "stream",
     "text": [
      "\n",
      "{}\n",
      "Best score:\n",
      "0.983327179845748\n",
      "Fitting 10 folds for each of 1 candidates, totalling 10 fits\n",
      "Best parameters:"
     ]
    },
    {
     "name": "stderr",
     "output_type": "stream",
     "text": [
      "/home/paste/.local/lib/python3.4/site-packages/sklearn/linear_model/least_angle.py:285: ConvergenceWarning: Regressors in active set degenerate. Dropping a regressor, after 78 iterations, i.e. alpha=2.018e-05, with an active set of 77 regressors, and the smallest cholesky pivot element being 2.107e-08\n",
      "  ConvergenceWarning)\n",
      "/home/paste/.local/lib/python3.4/site-packages/sklearn/linear_model/least_angle.py:285: ConvergenceWarning: Regressors in active set degenerate. Dropping a regressor, after 82 iterations, i.e. alpha=9.057e-06, with an active set of 81 regressors, and the smallest cholesky pivot element being 2.107e-08\n",
      "  ConvergenceWarning)\n",
      "/home/paste/.local/lib/python3.4/site-packages/sklearn/linear_model/least_angle.py:285: ConvergenceWarning: Regressors in active set degenerate. Dropping a regressor, after 83 iterations, i.e. alpha=2.741e-06, with an active set of 82 regressors, and the smallest cholesky pivot element being 2.107e-08\n",
      "  ConvergenceWarning)\n",
      "[Parallel(n_jobs=1)]: Done  10 out of  10 | elapsed:    0.3s finished\n",
      "/home/paste/.local/lib/python3.4/site-packages/sklearn/linear_model/least_angle.py:285: ConvergenceWarning: Regressors in active set degenerate. Dropping a regressor, after 83 iterations, i.e. alpha=2.382e-06, with an active set of 82 regressors, and the smallest cholesky pivot element being 4.942e-08\n",
      "  ConvergenceWarning)\n",
      "[Parallel(n_jobs=1)]: Done   1 jobs       | elapsed:    0.0s\n",
      "/home/paste/.local/lib/python3.4/site-packages/sklearn/linear_model/least_angle.py:285: ConvergenceWarning: Regressors in active set degenerate. Dropping a regressor, after 60 iterations, i.e. alpha=1.856e-04, with an active set of 60 regressors, and the smallest cholesky pivot element being 2.107e-08\n",
      "  ConvergenceWarning)\n",
      "/home/paste/.local/lib/python3.4/site-packages/sklearn/linear_model/least_angle.py:285: ConvergenceWarning: Regressors in active set degenerate. Dropping a regressor, after 69 iterations, i.e. alpha=8.810e-05, with an active set of 69 regressors, and the smallest cholesky pivot element being 2.107e-08\n",
      "  ConvergenceWarning)\n",
      "/home/paste/.local/lib/python3.4/site-packages/sklearn/linear_model/least_angle.py:285: ConvergenceWarning: Regressors in active set degenerate. Dropping a regressor, after 75 iterations, i.e. alpha=4.034e-05, with an active set of 75 regressors, and the smallest cholesky pivot element being 2.107e-08\n",
      "  ConvergenceWarning)\n",
      "/home/paste/.local/lib/python3.4/site-packages/sklearn/linear_model/least_angle.py:285: ConvergenceWarning: Regressors in active set degenerate. Dropping a regressor, after 78 iterations, i.e. alpha=1.896e-05, with an active set of 78 regressors, and the smallest cholesky pivot element being 2.107e-08\n",
      "  ConvergenceWarning)\n",
      "/home/paste/.local/lib/python3.4/site-packages/sklearn/linear_model/least_angle.py:285: ConvergenceWarning: Regressors in active set degenerate. Dropping a regressor, after 80 iterations, i.e. alpha=8.138e-06, with an active set of 80 regressors, and the smallest cholesky pivot element being 2.107e-08\n",
      "  ConvergenceWarning)\n",
      "/home/paste/.local/lib/python3.4/site-packages/sklearn/linear_model/least_angle.py:285: ConvergenceWarning: Regressors in active set degenerate. Dropping a regressor, after 82 iterations, i.e. alpha=2.356e-06, with an active set of 82 regressors, and the smallest cholesky pivot element being 2.107e-08\n",
      "  ConvergenceWarning)\n",
      "/home/paste/.local/lib/python3.4/site-packages/sklearn/linear_model/least_angle.py:285: ConvergenceWarning: Regressors in active set degenerate. Dropping a regressor, after 52 iterations, i.e. alpha=2.092e-04, with an active set of 52 regressors, and the smallest cholesky pivot element being 3.332e-08\n",
      "  ConvergenceWarning)\n"
     ]
    },
    {
     "name": "stdout",
     "output_type": "stream",
     "text": [
      "\n",
      "{}\n",
      "Best score:\n",
      "0.38834369111633393\n",
      "Fitting 10 folds for each of 1 candidates, totalling 10 fits\n",
      "Best parameters:\n",
      "{}\n",
      "Best score:\n",
      "0.641975088923309\n"
     ]
    },
    {
     "name": "stderr",
     "output_type": "stream",
     "text": [
      "/home/paste/.local/lib/python3.4/site-packages/sklearn/linear_model/least_angle.py:285: ConvergenceWarning: Regressors in active set degenerate. Dropping a regressor, after 57 iterations, i.e. alpha=1.708e-04, with an active set of 57 regressors, and the smallest cholesky pivot element being 3.332e-08\n",
      "  ConvergenceWarning)\n",
      "/home/paste/.local/lib/python3.4/site-packages/sklearn/linear_model/least_angle.py:285: ConvergenceWarning: Regressors in active set degenerate. Dropping a regressor, after 58 iterations, i.e. alpha=1.541e-04, with an active set of 58 regressors, and the smallest cholesky pivot element being 3.332e-08\n",
      "  ConvergenceWarning)\n",
      "/home/paste/.local/lib/python3.4/site-packages/sklearn/linear_model/least_angle.py:285: ConvergenceWarning: Regressors in active set degenerate. Dropping a regressor, after 70 iterations, i.e. alpha=7.591e-05, with an active set of 68 regressors, and the smallest cholesky pivot element being 3.332e-08\n",
      "  ConvergenceWarning)\n",
      "/home/paste/.local/lib/python3.4/site-packages/sklearn/linear_model/least_angle.py:285: ConvergenceWarning: Regressors in active set degenerate. Dropping a regressor, after 77 iterations, i.e. alpha=3.669e-05, with an active set of 75 regressors, and the smallest cholesky pivot element being 3.332e-08\n",
      "  ConvergenceWarning)\n",
      "/home/paste/.local/lib/python3.4/site-packages/sklearn/linear_model/least_angle.py:285: ConvergenceWarning: Regressors in active set degenerate. Dropping a regressor, after 85 iterations, i.e. alpha=4.897e-05, with an active set of 79 regressors, and the smallest cholesky pivot element being 3.332e-08\n",
      "  ConvergenceWarning)\n",
      "/home/paste/.local/lib/python3.4/site-packages/sklearn/linear_model/least_angle.py:285: ConvergenceWarning: Regressors in active set degenerate. Dropping a regressor, after 88 iterations, i.e. alpha=7.002e-06, with an active set of 82 regressors, and the smallest cholesky pivot element being 3.332e-08\n",
      "  ConvergenceWarning)\n",
      "[Parallel(n_jobs=1)]: Done  10 out of  10 | elapsed:    0.3s finished\n"
     ]
    }
   ],
   "source": [
    "# For singlets/doublets, predict based on everything else!\n",
    "numerics = ['int16', 'int32', 'int64', 'float16', 'float32', 'float64']\n",
    "\n",
    "numeric_train_df = singles_df.select_dtypes(include=numerics).copy()\n",
    "numeric_train_df.drop(non_singles_predict_cols, inplace=True, axis=\"columns\")\n",
    "regressor = sklearn.linear_model.ElasticNet(normalize=True)\n",
    "grid_vars = {}\n",
    "    #\"alpha\": scipy.stats.uniform(loc=0, scale=10),\n",
    "    #        \"l1_ratio\": scipy.stats.uniform()}\n",
    "\n",
    "best_singles_regressors = []\n",
    "for label in ['*', '**', '***']:\n",
    "    search = sklearn.grid_search.RandomizedSearchCV(sklearn.linear_model.Lars(normalize=True),\n",
    "                                                    param_distributions=grid_vars,\n",
    "                                                    n_iter=1,\n",
    "                                                    scoring=rmsle_score,\n",
    "                                                    cv=10,\n",
    "                                                    verbose=1,\n",
    "                                                    refit=True)\n",
    "    search.fit(numeric_train_df.drop([\"*\", \"**\", \"***\"], axis=\"columns\"), numeric_train_df[label])\n",
    "    print(\"Best parameters:\")\n",
    "    print(search.best_params_)\n",
    "    print(\"Best score:\")\n",
    "    print(search.best_score_)\n",
    "    best_singles_regressors = best_singles_regressors + [search.best_estimator_]"
   ]
  },
  {
   "cell_type": "code",
   "execution_count": 110,
   "metadata": {
    "collapsed": false
   },
   "outputs": [
    {
     "name": "stdout",
     "output_type": "stream",
     "text": [
      "        *  **  ***\n",
      "id                \n",
      "28144   6   1    1\n",
      "27691   4   1    0\n",
      "24765   3   1    0\n",
      "31333   3   1    0\n",
      "25193   3   1    0\n",
      "14328   5   1    2\n",
      "12775   5   1    2\n",
      "25850   4   0    1\n",
      "17443   3   0    2\n",
      "5576    4   1    1\n",
      "4180    4   1    1\n",
      "33309   7   1    1\n",
      "3527    7   1    1\n",
      "22246  10   2    3\n",
      "17990   3   0    1\n",
      "1601    4   0    1\n",
      "20355   4   0    1\n",
      "1028    4   0    1\n",
      "14085   3   0    1\n",
      "4772    4   0    1\n",
      "17230   4   1    1\n",
      "19976   4   1    1\n",
      "8566    5   1    1\n",
      "27872   4   1    1\n",
      "10757   3   1    1\n",
      "32641   2   0    1\n",
      "7601    3   0    1\n",
      "500     2   0    1\n",
      "10435   2   0    1\n",
      "6187    2   0    1\n",
      "...    ..  ..  ...\n",
      "2938    3   0    0\n",
      "17434   2   0    1\n",
      "6702    2   0    1\n",
      "16639   2   0    1\n",
      "16781   2   0    1\n",
      "10410   2   0    1\n",
      "10901   2   0    1\n",
      "6928    2   0    1\n",
      "5738    2   0    1\n",
      "25560   2   0    1\n",
      "6433    2   0    1\n",
      "12800   2   0    1\n",
      "15819   2   0    1\n",
      "32107   2   0    1\n",
      "26392   2   0    1\n",
      "31085   2   0    1\n",
      "6878    7   1    1\n",
      "23210  10   0    0\n",
      "23077   6   0    1\n",
      "8107    4   0    1\n",
      "5888    5   1    1\n",
      "9063    5   1    1\n",
      "24540   4   0    1\n",
      "3409    6   0    1\n",
      "29116   5   0    1\n",
      "9652    3   0    1\n",
      "3501    5   0    1\n",
      "31777   5   0    1\n",
      "21278   3   0    1\n",
      "11991   7   0    0\n",
      "\n",
      "[27088 rows x 3 columns]\n",
      "1.7549602755145464\n"
     ]
    }
   ],
   "source": [
    "# Put everything together\n",
    "prediction = pandas.DataFrame(index=train_df.index)\n",
    "prediction[\"restaurant_id\"] = train_df[\"restaurant_id\"]\n",
    "for n, label in enumerate([\"*\", \"**\", \"***\"]):\n",
    "    prediction.loc[non_singles_df.index, label] = best_non_singles_regressors[n].predict(non_singles_df[non_singles_predict_cols]).round()\n",
    "    prediction.loc[singles_df.index, label] = best_singles_regressors[n].predict(numeric_train_df.drop([\"*\", \"**\", \"***\"], axis=\"columns\")).round()\n",
    "    \n",
    "prediction = prediction.clip_lower(0)\n",
    "print(prediction.loc[:, [\"*\", \"**\", \"***\"]])\n",
    "print(rmsle_w(prediction.loc[:, [\"*\", \"**\", \"***\"]], train_df.loc[:, [\"*\", \"**\", \"***\"]]))"
   ]
  },
  {
   "cell_type": "code",
   "execution_count": 111,
   "metadata": {
    "collapsed": false
   },
   "outputs": [
    {
     "data": {
      "text/plain": [
       "<matplotlib.text.Text at 0x7f0856e49240>"
      ]
     },
     "execution_count": 111,
     "metadata": {},
     "output_type": "execute_result"
    },
    {
     "data": {
      "image/png": "[encoded data removed]",
      "text/plain": [
       "<matplotlib.figure.Figure at 0x7f0856b22d30>"
      ]
     },
     "metadata": {},
     "output_type": "display_data"
    }
   ],
   "source": [
    "fig4, axs4 = matplotlib.pyplot.subplots(3, sharex=True)\n",
    "fig4.set_size_inches(12, 8)\n",
    "\n",
    "for i, label in enumerate(['*', '**', '***']):\n",
    "    train_data = prediction.reset_index()[label]\n",
    "    real_data = train_df.reset_index()[label]\n",
    "    axs4[i].hist(train_data, normed=True, bins=range(0, 15), facecolor='magenta', alpha=0.5)\n",
    "    axs4[i].hist(real_data, normed=True, bins=range(0, 15), facecolor='red', alpha=0.5)\n",
    "    \n",
    "axs4[2].set_xlabel(\"Number of Violations\")\n",
    "axs4[1].set_ylabel(\"Proportion of Restaurants\")"
   ]
  },
  {
   "cell_type": "code",
   "execution_count": 112,
   "metadata": {
    "collapsed": false
   },
   "outputs": [
    {
     "data": {
      "text/plain": [
       "<matplotlib.text.Text at 0x7f0856b967f0>"
      ]
     },
     "execution_count": 112,
     "metadata": {},
     "output_type": "execute_result"
    },
    {
     "data": {
      "image/png": "[encoded data removed]",
      "text/plain": [
       "<matplotlib.figure.Figure at 0x7f0856ba78d0>"
      ]
     },
     "metadata": {},
     "output_type": "display_data"
    }
   ],
   "source": [
    "fig5, axs5 = matplotlib.pyplot.subplots(3, sharex=True)\n",
    "fig5.set_size_inches(12, 8)\n",
    "\n",
    "for i, label in enumerate(['*', '**', '***']):\n",
    "    train_data = prediction.reset_index().groupby(\"restaurant_id\")[label].std()\n",
    "    axs5[i].hist(train_data, normed=True, bins=range(0, 15), facecolor='green', alpha=0.5)\n",
    "\n",
    "axs5[2].set_xlabel(\"STD of Violations\")\n",
    "axs5[1].set_ylabel(\"Proportion of Restaurants\")"
   ]
  }
 ],
 "metadata": {
  "kernelspec": {
   "display_name": "Python 3",
   "language": "python",
   "name": "python3"
  },
  "language_info": {
   "codemirror_mode": {
    "name": "ipython",
    "version": 3
   },
   "file_extension": ".py",
   "mimetype": "text/x-python",
   "name": "python",
   "nbconvert_exporter": "python",
   "pygments_lexer": "ipython3",
   "version": "3.4.3"
  }
 },
 "nbformat": 4,
 "nbformat_minor": 0
}
